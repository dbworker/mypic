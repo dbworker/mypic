{
 "cells": [
  {
   "cell_type": "markdown",
   "id": "c7f59ec5-ef27-4ece-b396-47aa9e989cce",
   "metadata": {
    "tags": []
   },
   "source": [
    "%magic:视频cell%"
   ]
  },
  {
   "cell_type": "markdown",
   "id": "0ab7102f-fa77-4567-881d-9240217778a3",
   "metadata": {
    "tags": []
   },
   "source": [
    "# 什么是SQL语言\n",
    "数据库是计算机基础软件皇冠上的一颗明珠，而SQL语言则是操作数据库的必由之路。  \n",
    "这里简要回顾一下数据库发展的历史，以了解当前使用的数据库软件模型与SQL语句给用户或者开发人员带来的便利与强大的功能。  \n",
    "简单说，数据库软件的发展主要经历了三个阶段\n",
    "* 网状数据库\n",
    "* 层次数据库\n",
    "* 关系型数据库\n",
    "\n",
    "## 网状数据库\n",
    "1964年，世界上第一个数据库系统——集成数据存储（Integrated Data Storage，IDS）诞生于通用电气公司。  \n",
    "IDS是网状数据库, 下图是一个网状数据库的模型, 它有不少缺点，比如用户在复杂的网状结构中进行查询和定位操作比较困难等等。\n",
    "![network_model.png](https://cdn.jsdelivr.net/gh/dbworker/mypic/sql_base/net_mod_160x240.png)\n",
    "\n",
    "## 层次数据库\n",
    "1968年IBM推出的大型商用数据库IMSDBMS。  \n",
    "下图就是一个层次型数据库的模型，象一个树状结构，比如根节点是院系，下面是科室，再下面是教职员工, 等等。所以对数据的操作，都必须是根节点开始查找及处理。\n",
    "\n",
    "![hierarchy_model.png](https://cdn.jsdelivr.net/gh/dbworker/mypic/sql_base/hier_mod_160x240.png)\n",
    "\n",
    "## 关系型数据库\n",
    "1970年,IBM 的研究员Edgar F.Codd发表了关系数据模型论文,提出了关系数据模型的概念。  \n",
    "上面的学校教育系统可以按如下关系型表进行表示\n",
    "![relation_model.png](https://cdn.jsdelivr.net/gh/dbworker/mypic/sql_base/rel_mod_240x320.png)\n",
    "\n",
    "\n",
    "\n",
    "\n",
    "## SQL语言的诞生\n",
    "1974年IBM 的Ray Boyce和Don Chamberlin将Edgar F.Codd论述的关系数据库的12条准则的数学定义以简单的关键字语法表现出来,里程碑式地提出了SQL(Structured Query Language,结构化查询语言)"
   ]
  },
  {
   "cell_type": "raw",
   "id": "d4fad3a0-0517-4d8c-bab8-8248a7eb5915",
   "metadata": {},
   "source": [
    "视频"
   ]
  },
  {
   "cell_type": "code",
   "execution_count": null,
   "id": "75facbe4-1806-499a-b416-f06994b66dd0",
   "metadata": {},
   "outputs": [],
   "source": []
  },
  {
   "cell_type": "code",
   "execution_count": null,
   "id": "b8732892-5690-4651-9bb0-0d0c0550b458",
   "metadata": {},
   "outputs": [],
   "source": []
  },
  {
   "cell_type": "markdown",
   "id": "9ab7a2ec",
   "metadata": {},
   "source": [
    "# SQL课程的主要内容\n",
    "第一部分\n",
    "* 简介\n",
    "* 使用SQL SELECT 语句检索数据\n",
    "* 对数据进行限制和排序\n",
    "* 使用单行函数定制输出\n",
    "* 使用转换函数和条件表达式\n",
    "\n",
    "第二部分\n",
    "* 使用组函数报告聚集数据\n",
    "* 使用联接显示多个表中的数据\n",
    "* 使用子查询来解决查询\n",
    "* 使用集合运算符\n",
    "\n",
    "第三部分\n",
    "* 处理数据\n",
    "* 使用DDL 语句创建和管理表\n",
    "* 创建其它方案对象"
   ]
  },
  {
   "cell_type": "code",
   "execution_count": null,
   "id": "e49497ea-1038-493c-ba21-ff239ef4ee66",
   "metadata": {},
   "outputs": [],
   "source": [
    "print(\"abc\")"
   ]
  }
 ],
 "metadata": {
  "kernelspec": {
   "display_name": "Python 3 (ipykernel)",
   "language": "python",
   "name": "python3"
  },
  "language_info": {
   "codemirror_mode": {
    "name": "ipython",
    "version": 3
   },
   "file_extension": ".py",
   "mimetype": "text/x-python",
   "name": "python",
   "nbconvert_exporter": "python",
   "pygments_lexer": "ipython3",
   "version": "3.8.4"
  },
  "toc-autonumbering": true,
  "toc-showcode": true,
  "toc-showmarkdowntxt": false,
  "toc-showtags": false
 },
 "nbformat": 4,
 "nbformat_minor": 5
}
